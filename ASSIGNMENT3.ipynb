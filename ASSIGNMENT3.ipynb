String Template Class:

1>In the String module, Template Class allows us to create simplified syntax for output specification.

2>The format uses placeholder names formed by $ with valid Python identifiers (alphanumeric characters and underscores).

3>Surrounding the placeholder with braces allows it to be followed by more alphanumeric letters with no intervening spaces.

4>Writing $$ creates a single escaped $.

 

from string import Template
 
# List Student stores the name an/d marks of three students

Student = [('rohith',90), ('fernando',22), ('jefferson',62)]
 
# We are creating a basic structure to print the name and marks of the students.

t = Template('Hi $name, you have got $marks marks')
 
for i in Student:

    print (t.substitute(name = i[0], marks = i[1]))
Hi rohith, you have got 90 marks
Hi fernando, you have got 22 marks
Hi jefferson, you have got 62 marks

BMI CALCULATOR USING PYTHON:

w = float(input("Your weight in kg:"))
h = float(input("Your Height in m:"))


bmi = w/(h*h)

print("You are having a BMI of:{a}".format(a=bmi))

if bmi <= 18.4 :
    print("You are underweight");

elif bmi >= 18.4 and bmi <= 24.9:
    print("You are normal");

elif bmi >= 25.0 and bmi <= 39.9:
    print("You are overweight");

elif bmi>=40 :
    print("You are obese");

else:
    print("Input Error");

#OUTPUT

Your weight in kg:100
Your Height in m:0.2
You are having a BMI of:2499.9999999999995
You are obese
