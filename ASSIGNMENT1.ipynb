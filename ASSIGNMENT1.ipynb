#LISTS
list = [123,"Rohith",456]
print(list)

list = [666,"FERNANDO",666]
print (list)

#DICTIONARIES
thisdict = {
  "brand": "Ford",
  "model": "Mustang",
  "year": 1964
}
print(thisdict["brand"])

# Changing and adding Dictionary Elements
my_dict = {'name': 'FERNANDO', 'age': 20}
my_dict['age'] = 27
print(my_dict)
my_dict['address'] = 'NEW YORK'

thisdict = {
  "brand": "NISSAN",
  "model": "GTR BLACK EDITION",
  "year": 2012
}
print(thisdict["model"])

#TUPLES
thistuple = ("ferrari", "mclaren", "mercedes-amg")
print(thistuple)

 thistuple = ("ferrari", "mclaren", "mercedes-amg" )
print(len(thistuple))

mytuple = ( "ferrari", "mclaren", "mercedes-amg")
print(type(mytuple))

#NEGATIVE INDEX SLICING 
mystr = "Hello"
print(mystr[:-3])

mystr = "FERNANDO"
print(mystr[:-3])

#NEGATIVE INDEX SLICING WITH RANGE
a = range(100)
  
# Slicing range function
ans = a[:50]
print(ans)

a = range(100)
  
# Slicing range function
ans = a[:100]
print(ans)
