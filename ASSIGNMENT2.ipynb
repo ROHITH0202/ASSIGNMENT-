# Calculator 

a = int(input("Enter the number a:"));
b = int(input("Enter the number b:"));

def add(a,b):
    return print(a+b);
def sub(a,b):
    return print(a-b);
def mul(a,b):
    return print(a*b);
def div(a,b):
    return print(a/b);

c = int(input("Enter the option:(1.ADD 2.SUB 3.MUL 4.DIV):"));

if   c==1:
    add(a,b);
elif c==2:
    sub(a,b);
elif c==3:
    mul(a,b);
else:
    div(a,b);
#OUTPUT
Enter the number a:10
Enter the number b:20
Enter the option:(1.ADD 2.SUB 3.MUL 4.DIV):3
200
